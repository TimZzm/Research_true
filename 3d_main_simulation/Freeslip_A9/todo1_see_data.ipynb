{
 "cells": [
  {
   "cell_type": "code",
   "execution_count": 8,
   "metadata": {},
   "outputs": [
    {
     "name": "stdout",
     "output_type": "stream",
     "text": [
      "['scales', 'tasks']\n",
      "[<HDF5 group \"/scales\" (10 members)>, <HDF5 group \"/tasks\" (12 members)>]\n",
      "['constant' 'iteration' 'sim_time' 'timestep' 'wall_time' 'world_time'\n",
      " 'write_number' 'x_hash_c1f6c7913c310d67407c07928f9671812ef20283'\n",
      " 'y_hash_c1f6c7913c310d67407c07928f9671812ef20283'\n",
      " 'z_hash_379a9dade55ae037045163625e8eb5bc152eeb8d']\n",
      "['avg -D by xy' 'avg KE by xy' 'avg LqW by Z' 'avg M by xy'\n",
      " 'integ LqW by Z' 'ke by ux' 'ke by uy' 'ke by uz' 'tot ux' 'tot uy'\n",
      " 'tot uz' 'total kinetic energy']\n",
      "\n",
      "\n",
      "\n",
      "\n",
      "\n",
      "\n",
      "['scales', 'tasks']\n",
      "[<HDF5 group \"/scales\" (10 members)>, <HDF5 group \"/tasks\" (3 members)>]\n",
      "['constant' 'iteration' 'sim_time' 'timestep' 'wall_time' 'world_time'\n",
      " 'write_number' 'x_hash_c1f6c7913c310d67407c07928f9671812ef20283'\n",
      " 'y_hash_c1f6c7913c310d67407c07928f9671812ef20283'\n",
      " 'z_hash_379a9dade55ae037045163625e8eb5bc152eeb8d']\n",
      "['dry buoyancy' 'moist buoyancy' 'velocity']\n"
     ]
    }
   ],
   "source": [
    "import dedalus.public as d3\n",
    "import logging\n",
    "\n",
    "logger = logging.getLogger(__name__)\n",
    "import copy\n",
    "import h5py\n",
    "import numpy as np\n",
    "import matplotlib\n",
    "\n",
    "import matplotlib.pyplot as plt\n",
    "from dedalus.extras import plot_tools\n",
    "import os\n",
    "from os import listdir\n",
    "\n",
    "matplotlib.use('Agg')\n",
    "\n",
    "\n",
    "folder_dir = \"analysis\"\n",
    "\n",
    "file_paths = [os.path.join(folder_dir, file) for file in listdir(folder_dir) if\n",
    "              os.path.isfile(os.path.join(folder_dir, file)) and file.endswith('.h5')]\n",
    "file_paths.sort()\n",
    "\n",
    "\n",
    "for file in file_paths:\n",
    "    with h5py.File(file, mode='r') as file:\n",
    "        ls = list(file.keys())\n",
    "        print(ls)\n",
    "        values = list(file.values())\n",
    "        print(values)\n",
    "        scales_in_h5 = file.get('scales')\n",
    "        scales_array = np.array(scales_in_h5)\n",
    "        tasks_in_h5 = file.get('tasks')\n",
    "        tasks_array = np.array(tasks_in_h5)\n",
    "        print(scales_array)\n",
    "        print(tasks_array)\n",
    "        break\n",
    "print(\"\\n\\n\\n\\n\\n\")\n",
    "folder_dir = \"snapshots\"\n",
    "\n",
    "file_paths = [os.path.join(folder_dir, file) for file in listdir(folder_dir) if\n",
    "              os.path.isfile(os.path.join(folder_dir, file)) and file.endswith('.h5')]\n",
    "file_paths.sort()\n",
    "\n",
    "for file in file_paths:\n",
    "    with h5py.File(file, mode='r') as file:\n",
    "        ls = list(file.keys())\n",
    "        print(ls)\n",
    "        values = list(file.values())\n",
    "        print(values)\n",
    "        scales_in_h5 = file.get('scales')\n",
    "        scales_array = np.array(scales_in_h5)\n",
    "        tasks_in_h5 = file.get('tasks')\n",
    "        tasks_array = np.array(tasks_in_h5)\n",
    "        print(scales_array)\n",
    "        print(tasks_array)\n",
    "        break\n",
    "\n",
    "\n"
   ]
  },
  {
   "cell_type": "code",
   "execution_count": null,
   "metadata": {},
   "outputs": [],
   "source": []
  }
 ],
 "metadata": {
  "kernelspec": {
   "display_name": "dedalus3",
   "language": "python",
   "name": "dedalus3"
  },
  "language_info": {
   "codemirror_mode": {
    "name": "ipython",
    "version": 3
   },
   "file_extension": ".py",
   "mimetype": "text/x-python",
   "name": "python",
   "nbconvert_exporter": "python",
   "pygments_lexer": "ipython3",
   "version": "3.10.12"
  }
 },
 "nbformat": 4,
 "nbformat_minor": 4
}
