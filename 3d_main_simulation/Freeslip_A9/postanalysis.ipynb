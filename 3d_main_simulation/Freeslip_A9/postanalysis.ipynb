{
 "cells": [
  {
   "cell_type": "code",
   "execution_count": 3,
   "metadata": {},
   "outputs": [],
   "source": [
    "import numpy as np\n",
    "import dedalus.public as d3\n",
    "import logging\n",
    "logger = logging.getLogger(__name__)\n",
    "import copy\n",
    "import h5py\n",
    "import numpy as np\n",
    "import matplotlib\n",
    "import re\n",
    "\n",
    "import matplotlib.pyplot as plt\n",
    "from dedalus.extras import plot_tools\n",
    "\n",
    "from mpl_toolkits.mplot3d import Axes3D\n",
    "from matplotlib.colors import Normalize\n",
    "\n",
    "import os\n",
    "from os import listdir"
   ]
  },
  {
   "cell_type": "code",
   "execution_count": 4,
   "metadata": {},
   "outputs": [
    {
     "name": "stdout",
     "output_type": "stream",
     "text": [
      "124000.0\n",
      "248000.00000000003\n"
     ]
    }
   ],
   "source": [
    "# Parameters\n",
    "Lx, Ly, Lz = 9,9,1\n",
    "Nx, Ny, Nz = 288, 288, 32\n",
    "\n",
    "Ra_D = -1.24e5\n",
    "Prandtl = 0.7\n",
    "N_s2 = 2\n",
    "\n",
    "D_0 = 0\n",
    "D_H = 1\n",
    "M_0 = 0\n",
    "M_H = -1\n",
    "\n",
    "dealias = 3/2\n",
    "stop_sim_time = 2000\n",
    "timestepper = d3.RK222\n",
    "max_timestep = 0.125\n",
    "dtype = np.float64\n",
    "\n",
    "# %%\n",
    "# Bases\n",
    "coords = d3.CartesianCoordinates('x','y', 'z')\n",
    "dist = d3.Distributor(coords, dtype=dtype)\n",
    "xbasis = d3.RealFourier(coords['x'], size=Nx, bounds=(0, Lx), dealias=dealias)\n",
    "ybasis = d3.RealFourier(coords['y'], size=Ny, bounds=(0, Ly), dealias=dealias)\n",
    "zbasis = d3.ChebyshevT(coords['z'], size=Nz, bounds=(0, Lz), dealias=dealias)\n",
    "\n",
    "# %%\n",
    "# Fields\n",
    "p = dist.Field(name='p', bases=(xbasis,ybasis,zbasis))\n",
    "D = dist.Field(name='D', bases=(xbasis,ybasis,zbasis))\n",
    "M = dist.Field(name='M', bases=(xbasis,ybasis,zbasis))\n",
    "u = dist.VectorField(coords, name='u', bases=(xbasis,ybasis,zbasis))\n",
    "Z = dist.Field(name='Z', bases=zbasis)\n",
    "tau_p = dist.Field(name='tau_p')\n",
    "tau_B1 = dist.Field(name='tau_B1', bases=(xbasis,ybasis))\n",
    "tau_B2 = dist.Field(name='tau_B2', bases=(xbasis,ybasis))\n",
    "tau_D1 = dist.Field(name='tau_D1', bases=(xbasis,ybasis))\n",
    "tau_D2 = dist.Field(name='tau_D2', bases=(xbasis,ybasis))\n",
    "tau_M1 = dist.Field(name='tau_M1', bases=(xbasis,ybasis))\n",
    "tau_M2 = dist.Field(name='tau_M2', bases=(xbasis,ybasis))\n",
    "tau_u1 = dist.VectorField(coords, name='tau_u1', bases=(xbasis,ybasis))\n",
    "tau_u2 = dist.VectorField(coords, name='tau_u2', bases=(xbasis,ybasis))\n",
    "\n",
    "# Substitutions\n",
    "kappa = (Ra_D * Prandtl/((D_0-D_H)*Lz**3))**(-1/2)\n",
    "nu = (Ra_D / (Prandtl*(D_0-D_H)*Lz**3))**(-1/2)\n",
    "\n",
    "      \n",
    "#Kuo_Bretherton Equilibrium\n",
    "\n",
    "#Ra_M\n",
    "Ra_M = Ra_D*(M_0-M_H)/(D_0-D_H)\n",
    "G_D=(D_0-D_H)/Lz\n",
    "G_M=(M_0-M_H)/Lz\n",
    "Ra_BV=N_s2*Lz**4/(nu*kappa)\n",
    "print(Ra_M)\n",
    "print(Ra_BV)\n",
    "\n",
    "x,y,z = dist.local_grids(xbasis,ybasis,zbasis)\n",
    "Z['g']=z\n",
    "Z.change_scales(3/2)\n",
    "\n",
    "ex,ey,ez = coords.unit_vector_fields(dist)\n",
    "lift_basis = zbasis.derivative_basis(1)\n",
    "lift = lambda A: d3.Lift(A, lift_basis, -1)\n",
    "\n",
    "B_op = (np.absolute(D - M - N_s2*Z)+ M + D - N_s2*Z)/2\n",
    "\n",
    "Max = lambda A,B: (abs(A-N_s2*Z-B)+A-N_s2*Z+B)/2\n",
    "eva = lambda A: A.evaluate()\n",
    "\n",
    "dz= lambda A: d3.Differentiate(A, coords['z'])\n",
    "dx= lambda A: d3.Differentiate(A, coords['x'])\n",
    "dy= lambda A: d3.Differentiate(A, coords['y'])\n",
    "\n",
    "ux=u@ex\n",
    "uy=u@ey\n",
    "uz=u@ez\n",
    "\n",
    "ux2=ux*ux\n",
    "uy2=uy*uy\n",
    "uz2=uz*uz\n",
    "\n",
    "grad_u = d3.grad(u) + ez*lift(tau_u1) # First-order reduction\n",
    "grad_M = d3.grad(M) + ez*lift(tau_M1) # First-order reduction\n",
    "grad_D = d3.grad(D) + ez*lift(tau_D1) # First-order reductionpyplot.close()\n",
    "\n"
   ]
  },
  {
   "cell_type": "code",
   "execution_count": 5,
   "metadata": {},
   "outputs": [
    {
     "name": "stdout",
     "output_type": "stream",
     "text": [
      "['analysis/analysis_s1.h5', 'analysis/analysis_s2.h5']\n"
     ]
    }
   ],
   "source": [
    "\n",
    "folder_dir = \"analysis\"\n",
    "\n",
    "file_paths = [os.path.join(folder_dir, file) for file in listdir(folder_dir) if os.path.isfile(os.path.join(folder_dir, file)) and file.endswith('.h5')]\n",
    "#sort by the number in the file name\n",
    "file_paths.sort(key=lambda f: int(re.sub('\\D', '', f)))\n",
    "print(file_paths)\n"
   ]
  },
  {
   "cell_type": "code",
   "execution_count": 10,
   "metadata": {},
   "outputs": [
    {
     "name": "stdout",
     "output_type": "stream",
     "text": [
      "-0.004379703698277825\n",
      "1.7945852967023657\n"
     ]
    }
   ],
   "source": [
    "\n",
    "if not os.path.exists('liquid_water'):    \n",
    "    os.mkdir('liquid_water')\n",
    "n=0\n",
    "recorded = False\n",
    "for file in file_paths:\n",
    "    with h5py.File(file, mode='r') as file:\n",
    "        if recorded == False:\n",
    "            max_level_old = np.max(file['tasks']['integ LqW by Z'])\n",
    "            min_level_old = np.min(file['tasks']['integ LqW by Z'])\n",
    "            recorded = True\n",
    "        else:\n",
    "            max_level_new = np.max(file['tasks']['integ LqW by Z'])\n",
    "            min_level_new = np.min(file['tasks']['integ LqW by Z'])\n",
    "            if max_level_new > max_level_old:\n",
    "                max_level_old = max_level_new\n",
    "            if min_level_new < min_level_old:\n",
    "                min_level_old = min_level_new\n",
    "print(min_level_old)\n",
    "print(max_level_old)"
   ]
  },
  {
   "cell_type": "code",
   "execution_count": 11,
   "metadata": {},
   "outputs": [
    {
     "name": "stdout",
     "output_type": "stream",
     "text": [
      "[1.7945852967023657, 1.7623766451234482]\n",
      "[-0.004379703698277825, -0.00234447238750834]\n"
     ]
    }
   ],
   "source": [
    "maX = []\n",
    "miN = []\n",
    "for file in file_paths:\n",
    "    with h5py.File(file, mode='r') as file:\n",
    "        maX.append(np.max(file['tasks']['integ LqW by Z']))\n",
    "        miN.append(np.min(file['tasks']['integ LqW by Z']))\n",
    "print(maX)\n",
    "print(miN)"
   ]
  },
  {
   "cell_type": "code",
   "execution_count": null,
   "metadata": {},
   "outputs": [
    {
     "name": "stdout",
     "output_type": "stream",
     "text": [
      "start\n"
     ]
    }
   ],
   "source": [
    "max_level_old = 1.7945852967023657\n",
    "min_level_old = -0.004379703698277825\n",
    "n=0\n",
    "for file in file_paths:\n",
    "    with h5py.File(file, mode='r') as file:\n",
    "        liq_wat_0 = file['tasks']['integ LqW by Z'] # This gives shape (1000,128,128, 1)\n",
    "        liq_wat = liq_wat_0[:,:,:,0] # delete the redundant dimension to (1000,128,128)\n",
    "        st = file['scales/sim_time']\n",
    "        simtime = np.array(st)\n",
    "        print(\"start\")\n",
    "        for t in range(len(simtime)):\n",
    "            liq_wat_T=np.transpose(liq_wat[t,:,:])\n",
    "            if np.max(liq_wat_T) - np.min(liq_wat_T) > 0.05:\n",
    "                levels = np.arange(min_level_old, max_level_old, 0.02)\n",
    "                plt.contourf(liq_wat_T, levels, cmap='Blues')\n",
    "            else:\n",
    "                plt.contourf(liq_wat_T, cmap='Blues')\n",
    "            plt.colorbar(label='integrated liquid water')\n",
    "            plt.xlabel('x')\n",
    "            plt.ylabel('y')\n",
    "            n=n+1\n",
    "            # Add time title\n",
    "            title = \"t=\"+str(st[t])\n",
    "            plt.title(title)\n",
    "            plt.savefig(f'liquid_water/liquidwater_{\"%04d\" % n}.png', dpi=200,bbox_inches='tight')\n",
    "            matplotlib.pyplot.close()"
   ]
  },
  {
   "cell_type": "code",
   "execution_count": null,
   "metadata": {},
   "outputs": [],
   "source": []
  }
 ],
 "metadata": {
  "kernelspec": {
   "display_name": "dedalus3",
   "language": "python",
   "name": "dedalus3"
  },
  "language_info": {
   "codemirror_mode": {
    "name": "ipython",
    "version": 3
   },
   "file_extension": ".py",
   "mimetype": "text/x-python",
   "name": "python",
   "nbconvert_exporter": "python",
   "pygments_lexer": "ipython3",
   "version": "3.10.12"
  }
 },
 "nbformat": 4,
 "nbformat_minor": 4
}
