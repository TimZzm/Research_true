{
 "cells": [
  {
   "cell_type": "code",
   "execution_count": 1,
   "metadata": {},
   "outputs": [
    {
     "data": {
      "text/plain": [
       "'\\nDedalus script simulating 2D horizontally-periodic Rayleigh-Benard convection.\\nThis script demonstrates solving a 2D Cartesian initial value problem. It can\\nbe ran serially or in parallel, and uses the built-in analysis framework to save\\ndata snapshots to HDF5 files. The `plot_snapshots.py` script can be used to\\nproduce plots from the saved data. It should take about 5 cpu-minutes to run.\\n\\nFor incompressible hydro with two boundaries, we need two tau terms for each the\\nvelocity and buoyancy. Here we choose to use a first-order formulation, putting\\none tau term each on auxiliary first-order gradient variables and the others in\\nthe PDE, and lifting them all to the first derivative basis. This formulation puts\\na tau term in the divergence constraint, as required for this geometry.\\n\\nTo run and plot using e.g. 4 processes:\\n    $ mpiexec -n 4 python3 rayleigh_benard.py\\n    $ mpiexec -n 4 python3 plot_snapshots.py snapshots/*.h5\\n'"
      ]
     },
     "execution_count": 1,
     "metadata": {},
     "output_type": "execute_result"
    }
   ],
   "source": [
    "\"\"\"\n",
    "Dedalus script simulating 2D horizontally-periodic Rayleigh-Benard convection.\n",
    "This script demonstrates solving a 2D Cartesian initial value problem. It can\n",
    "be ran serially or in parallel, and uses the built-in analysis framework to save\n",
    "data snapshots to HDF5 files. The `plot_snapshots.py` script can be used to\n",
    "produce plots from the saved data. It should take about 5 cpu-minutes to run.\n",
    "\n",
    "For incompressible hydro with two boundaries, we need two tau terms for each the\n",
    "velocity and buoyancy. Here we choose to use a first-order formulation, putting\n",
    "one tau term each on auxiliary first-order gradient variables and the others in\n",
    "the PDE, and lifting them all to the first derivative basis. This formulation puts\n",
    "a tau term in the divergence constraint, as required for this geometry.\n",
    "\n",
    "To run and plot using e.g. 4 processes:\n",
    "    $ mpiexec -n 4 python3 rayleigh_benard.py\n",
    "    $ mpiexec -n 4 python3 plot_snapshots.py snapshots/*.h5\n",
    "\"\"\"\n"
   ]
  },
  {
   "cell_type": "code",
   "execution_count": 13,
   "metadata": {},
   "outputs": [],
   "source": [
    "import numpy as np\n",
    "import dedalus.public as d3\n",
    "import logging\n",
    "logger = logging.getLogger(__name__)\n",
    "import copy\n",
    "import h5py\n",
    "import numpy as np\n",
    "import matplotlib\n",
    "import re\n",
    "\n",
    "import matplotlib.pyplot as plt\n",
    "from dedalus.extras import plot_tools\n",
    "\n",
    "from mpl_toolkits.mplot3d import Axes3D\n",
    "from matplotlib.colors import Normalize\n",
    "\n",
    "import os\n",
    "from os import listdir"
   ]
  },
  {
   "cell_type": "code",
   "execution_count": 3,
   "metadata": {},
   "outputs": [],
   "source": [
    "# Parameters\n",
    "Lx, Lz = 20,1\n",
    "Nx, Nz = 640, 32\n",
    "Ra_M = 4.5e5\n",
    "D_0 = 1/3\n",
    "D_H = 1\n",
    "M_0 = 0\n",
    "M_H = -1\n",
    "N_s2=4/3\n",
    "f=0.1\n",
    "\n",
    "Prandtl = 0.7\n",
    "dealias = 3/2\n",
    "stop_sim_time = 50\n",
    "timestepper = d3.RK222\n",
    "max_timestep = 0.125\n",
    "dtype = np.float64"
   ]
  },
  {
   "cell_type": "code",
   "execution_count": 4,
   "metadata": {},
   "outputs": [],
   "source": [
    "# Bases\n",
    "coords = d3.CartesianCoordinates('x','z')\n",
    "dist = d3.Distributor(coords, dtype=dtype)\n",
    "xbasis = d3.RealFourier(coords['x'], size=Nx, bounds=(0, Lx), dealias=dealias)\n",
    "zbasis = d3.ChebyshevT(coords['z'], size=Nz, bounds=(0, Lz), dealias=dealias)"
   ]
  },
  {
   "cell_type": "code",
   "execution_count": 5,
   "metadata": {},
   "outputs": [
    {
     "name": "stdout",
     "output_type": "stream",
     "text": [
      "kappa 0.001781741612749496\n",
      "nu 0.0012472191289246471\n"
     ]
    }
   ],
   "source": [
    "# Fields\n",
    "p = dist.Field(name='p', bases=(xbasis,zbasis))\n",
    "D = dist.Field(name='D', bases=(xbasis,zbasis))\n",
    "M = dist.Field(name='M', bases=(xbasis,zbasis))\n",
    "u = dist.VectorField(coords, name='u', bases=(xbasis,zbasis))\n",
    "uy = dist.Field(name='uy', bases=(xbasis,zbasis))\n",
    "Z = dist.Field(name='Z', bases=zbasis)\n",
    "tau_p = dist.Field(name='tau_p')\n",
    "tau_B1 = dist.Field(name='tau_B1', bases=xbasis)\n",
    "tau_B2 = dist.Field(name='tau_B2', bases=xbasis)\n",
    "tau_D1 = dist.Field(name='tau_D1', bases=xbasis)\n",
    "tau_D2 = dist.Field(name='tau_D2', bases=xbasis)\n",
    "tau_M1 = dist.Field(name='tau_M1', bases=xbasis)\n",
    "tau_M2 = dist.Field(name='tau_M2', bases=xbasis)\n",
    "tau_u1 = dist.VectorField(coords,name='tau_u1', bases=xbasis)\n",
    "tau_u2 = dist.VectorField(coords,name='tau_u2', bases=xbasis)\n",
    "tau_u3 = dist.VectorField(coords,name='tau_u3', bases=xbasis)\n",
    "tau_u4 = dist.Field(name='tau_u4', bases=xbasis)\n",
    "\n",
    "# Substitutions    \n",
    "#Kuo_Bretherton Equilibrium\n",
    "kappa = (Ra_M * Prandtl/((M_0-M_H)*Lz**3))**(-1/2)\n",
    "nu = (Ra_M / (Prandtl*(M_0-M_H)*Lz**3))**(-1/2)\n",
    "print('kappa',kappa)\n",
    "print('nu',nu)\n",
    "\n",
    "\n",
    "x,z = dist.local_grids(xbasis,zbasis)\n",
    "Z['g']=z\n",
    "Z.change_scales(3/2)\n",
    "\n",
    "ex,ez = coords.unit_vector_fields(dist)\n",
    "lift_basis = zbasis.derivative_basis(1)\n",
    "lift = lambda A: d3.Lift(A, lift_basis, -1)\n",
    "\n",
    "B_op = (np.absolute(D - M - N_s2*Z)+ M + D - N_s2*Z)/2\n",
    "\n",
    "Max = lambda A,B: (abs(A-N_s2*Z-B)+A-N_s2*Z+B)/2\n",
    "eva = lambda A: A.evaluate()\n",
    "\n",
    "dz= lambda A: d3.Differentiate(A, coords['z'])\n",
    "dx= lambda A: d3.Differentiate(A, coords['x'])\n",
    "\n",
    "ux=u@ex\n",
    "uz=u@ez\n",
    "dxux=dx(ux)\n",
    "dzux=dz(ux)\n",
    "dxuz=dx(uz)\n",
    "dzuz=dz(uz)\n",
    "\n",
    "grad_u = d3.grad(u) + ez* lift(tau_u1) # First-order reduction\n",
    "grad_ux = grad_u@ex # First-order reduction\n",
    "grad_uz = grad_u@ez # First-order reduction\n",
    "grad_M = d3.grad(M) + ez*lift(tau_M1) # First-order reduction\n",
    "grad_D = d3.grad(D) + ez*lift(tau_D1) # First-order reduction"
   ]
  },
  {
   "cell_type": "code",
   "execution_count": 6,
   "metadata": {},
   "outputs": [
    {
     "data": {
      "text/plain": [
       "{'LHS': Integrate(Integrate(<Field 5258530960>)),\n",
       " 'RHS': 0,\n",
       " 'condition': 'True',\n",
       " 'tensorsig': (),\n",
       " 'dtype': numpy.float64,\n",
       " 'M': 0,\n",
       " 'L': Integrate(Integrate(<Field 5258530960>)),\n",
       " 'F': <Field 5234471312>,\n",
       " 'domain': <dedalus.core.domain.Domain at 0x139709350>,\n",
       " 'matrix_dependence': array([ True,  True]),\n",
       " 'matrix_coupling': array([False,  True])}"
      ]
     },
     "execution_count": 6,
     "metadata": {},
     "output_type": "execute_result"
    }
   ],
   "source": [
    "# Problem\n",
    "# First-order form: \"div(f)\" becomes \"trace(grad_f)\"\n",
    "# First-order form: \"lap(f)\" becomes \"div(grad_f)\"\n",
    "problem = d3.IVP([p, M, D, u, uy, tau_p, tau_M1, tau_M2, tau_D1, tau_D2, tau_u1, tau_u2], namespace=locals())\n",
    "problem.add_equation(\"trace(grad_u) + tau_p= 0\")\n",
    "problem.add_equation(\"dt(M) - kappa*div(grad_M) + lift(tau_M2) = - u@grad(M)\")\n",
    "problem.add_equation(\"dt(D) - kappa*div(grad_D) + lift(tau_D2) = - u@grad(D)\")\n",
    "problem.add_equation(\"dt(ux) + dx(p) - nu*div(grad_ux) + lift(tau_u2)@ex = - u@grad(ux)+f*uy\")\n",
    "problem.add_equation(\"dt(uz) + dz(p) - nu*div(grad_uz) + lift(tau_u2)@ez = - u@grad(uz) + B_op\")\n",
    "problem.add_equation(\"dt(uy) = -f*ux\")\n",
    "problem.add_equation(\"u(z=0) = 0\")\n",
    "problem.add_equation(\"u(z=Lz) = 0\")\n",
    "problem.add_equation(\"M(z=0) = M_0\")\n",
    "problem.add_equation(\"D(z=0) = D_0\")\n",
    "problem.add_equation(\"M(z=Lz) = M_H\")\n",
    "problem.add_equation(\"D(z=Lz) = D_H\")\n",
    "problem.add_equation(\"integ(p) = 0\") # Pressure gauge"
   ]
  },
  {
   "cell_type": "code",
   "execution_count": 7,
   "metadata": {},
   "outputs": [
    {
     "name": "stdout",
     "output_type": "stream",
     "text": [
      "2023-09-21 23:57:45,824 subsystems 0/1 INFO :: Building subproblem matrices 1/320 (~0%) Elapsed: 0s, Remaining: 25s, Rate: 1.3e+01/s\n",
      "2023-09-21 23:57:47,292 subsystems 0/1 INFO :: Building subproblem matrices 32/320 (~10%) Elapsed: 2s, Remaining: 14s, Rate: 2.1e+01/s\n",
      "2023-09-21 23:57:48,761 subsystems 0/1 INFO :: Building subproblem matrices 64/320 (~20%) Elapsed: 3s, Remaining: 12s, Rate: 2.1e+01/s\n",
      "2023-09-21 23:57:50,242 subsystems 0/1 INFO :: Building subproblem matrices 96/320 (~30%) Elapsed: 4s, Remaining: 10s, Rate: 2.1e+01/s\n",
      "2023-09-21 23:57:51,809 subsystems 0/1 INFO :: Building subproblem matrices 128/320 (~40%) Elapsed: 6s, Remaining: 9s, Rate: 2.1e+01/s\n",
      "2023-09-21 23:57:53,257 subsystems 0/1 INFO :: Building subproblem matrices 160/320 (~50%) Elapsed: 8s, Remaining: 8s, Rate: 2.1e+01/s\n",
      "2023-09-21 23:57:54,754 subsystems 0/1 INFO :: Building subproblem matrices 192/320 (~60%) Elapsed: 9s, Remaining: 6s, Rate: 2.1e+01/s\n",
      "2023-09-21 23:57:55,775 subsystems 0/1 INFO :: Building subproblem matrices 214/320 (~67%) Elapsed: 10s, Remaining: 5s, Rate: 2.1e+01/s\n",
      "2023-09-21 23:57:56,231 subsystems 0/1 INFO :: Building subproblem matrices 224/320 (~70%) Elapsed: 10s, Remaining: 4s, Rate: 2.1e+01/s\n",
      "2023-09-21 23:57:57,683 subsystems 0/1 INFO :: Building subproblem matrices 256/320 (~80%) Elapsed: 12s, Remaining: 3s, Rate: 2.1e+01/s\n",
      "2023-09-21 23:57:59,183 subsystems 0/1 INFO :: Building subproblem matrices 288/320 (~90%) Elapsed: 13s, Remaining: 1s, Rate: 2.1e+01/s\n",
      "2023-09-21 23:58:00,653 subsystems 0/1 INFO :: Building subproblem matrices 320/320 (~100%) Elapsed: 15s, Remaining: 0s, Rate: 2.1e+01/s\n"
     ]
    }
   ],
   "source": [
    "# Solver\n",
    "solver = problem.build_solver(timestepper)\n",
    "solver.stop_sim_time = stop_sim_time\n"
   ]
  },
  {
   "cell_type": "code",
   "execution_count": 8,
   "metadata": {},
   "outputs": [],
   "source": [
    "# Initial condition\n",
    "D.fill_random('g', seed=42, distribution='normal', scale=1e-3) # Random noise\n",
    "D['g'] *= z * (Lz - z) # Damp noise at walls\n",
    "D['g'] += (D_H-D_0)*z # Add linear background\n",
    "M.fill_random('g', seed=28, distribution='normal', scale=1e-3) # Random noise\n",
    "M['g'] *= z * (Lz - z) # Damp noise at walls\n",
    "M['g'] += (M_H-M_0)*z # Add linear background"
   ]
  },
  {
   "cell_type": "code",
   "execution_count": 9,
   "metadata": {},
   "outputs": [],
   "source": [
    "# Analysis\n",
    "snapshots = solver.evaluator.add_file_handler('snapshots', sim_dt=0.25, max_writes=50)\n",
    "snapshots.add_tasks(solver.state,layout='g')"
   ]
  },
  {
   "cell_type": "code",
   "execution_count": 10,
   "metadata": {},
   "outputs": [],
   "source": [
    "# CFL\n",
    "CFL = d3.CFL(solver, initial_dt=0.1, cadence=10, safety=0.5, threshold=0.05,\n",
    "             max_change=1.1, min_change=0, max_dt=max_timestep)\n",
    "CFL.add_velocity(u)"
   ]
  },
  {
   "cell_type": "code",
   "execution_count": 11,
   "metadata": {},
   "outputs": [],
   "source": [
    "# Flow properties\n",
    "flow = d3.GlobalFlowProperty(solver, cadence=10)\n",
    "flow.add_property(np.sqrt(u@u)/nu, name='Re')\n"
   ]
  },
  {
   "cell_type": "code",
   "execution_count": 12,
   "metadata": {},
   "outputs": [
    {
     "name": "stdout",
     "output_type": "stream",
     "text": [
      "2023-09-21 23:58:00,724 __main__ 0/1 INFO :: Starting main loop\n",
      "2023-09-21 23:58:05,758 __main__ 0/1 INFO :: Iteration=1, Time=1.000000e-01, dt=1.000000e-01, max(Re)=0.000000\n",
      "2023-09-21 23:58:06,510 __main__ 0/1 INFO :: Iteration=11, Time=1.100000e+00, dt=1.000000e-01, max(Re)=0.070962\n",
      "2023-09-21 23:58:07,512 __main__ 0/1 INFO :: Iteration=21, Time=2.200000e+00, dt=1.100000e-01, max(Re)=0.066009\n",
      "2023-09-21 23:58:08,517 __main__ 0/1 INFO :: Iteration=31, Time=3.410000e+00, dt=1.210000e-01, max(Re)=0.038271\n",
      "2023-09-21 23:58:09,275 __main__ 0/1 INFO :: Iteration=41, Time=4.620000e+00, dt=1.210000e-01, max(Re)=0.028750\n",
      "2023-09-21 23:58:10,081 __main__ 0/1 INFO :: Iteration=51, Time=5.830000e+00, dt=1.210000e-01, max(Re)=0.024313\n",
      "2023-09-21 23:58:10,820 __main__ 0/1 INFO :: Iteration=61, Time=7.040000e+00, dt=1.210000e-01, max(Re)=0.024093\n",
      "2023-09-21 23:58:11,587 __main__ 0/1 INFO :: Iteration=71, Time=8.250000e+00, dt=1.210000e-01, max(Re)=0.024033\n",
      "2023-09-21 23:58:12,353 __main__ 0/1 INFO :: Iteration=81, Time=9.460000e+00, dt=1.210000e-01, max(Re)=0.022639\n",
      "2023-09-21 23:58:13,109 __main__ 0/1 INFO :: Iteration=91, Time=1.067000e+01, dt=1.210000e-01, max(Re)=0.020804\n",
      "2023-09-21 23:58:13,881 __main__ 0/1 INFO :: Iteration=101, Time=1.188000e+01, dt=1.210000e-01, max(Re)=0.018558\n",
      "2023-09-21 23:58:14,696 __main__ 0/1 INFO :: Iteration=111, Time=1.309000e+01, dt=1.210000e-01, max(Re)=0.017659\n",
      "2023-09-21 23:58:15,467 __main__ 0/1 INFO :: Iteration=121, Time=1.430000e+01, dt=1.210000e-01, max(Re)=0.017139\n",
      "2023-09-21 23:58:16,178 __main__ 0/1 INFO :: Iteration=131, Time=1.551000e+01, dt=1.210000e-01, max(Re)=0.015462\n",
      "2023-09-21 23:58:16,885 __main__ 0/1 INFO :: Iteration=141, Time=1.672000e+01, dt=1.210000e-01, max(Re)=0.015192\n",
      "2023-09-21 23:58:17,592 __main__ 0/1 INFO :: Iteration=151, Time=1.793000e+01, dt=1.210000e-01, max(Re)=0.013354\n",
      "2023-09-21 23:58:18,301 __main__ 0/1 INFO :: Iteration=161, Time=1.914000e+01, dt=1.210000e-01, max(Re)=0.010273\n",
      "2023-09-21 23:58:19,081 __main__ 0/1 INFO :: Iteration=171, Time=2.035000e+01, dt=1.210000e-01, max(Re)=0.008611\n",
      "2023-09-21 23:58:19,800 __main__ 0/1 INFO :: Iteration=181, Time=2.156000e+01, dt=1.210000e-01, max(Re)=0.007110\n",
      "2023-09-21 23:58:20,492 __main__ 0/1 INFO :: Iteration=191, Time=2.277000e+01, dt=1.210000e-01, max(Re)=0.007591\n",
      "2023-09-21 23:58:21,209 __main__ 0/1 INFO :: Iteration=201, Time=2.398000e+01, dt=1.210000e-01, max(Re)=0.007313\n",
      "2023-09-21 23:58:21,943 __main__ 0/1 INFO :: Iteration=211, Time=2.519000e+01, dt=1.210000e-01, max(Re)=0.005853\n",
      "2023-09-21 23:58:22,647 __main__ 0/1 INFO :: Iteration=221, Time=2.640000e+01, dt=1.210000e-01, max(Re)=0.005845\n",
      "2023-09-21 23:58:23,362 __main__ 0/1 INFO :: Iteration=231, Time=2.761000e+01, dt=1.210000e-01, max(Re)=0.006004\n",
      "2023-09-21 23:58:24,056 __main__ 0/1 INFO :: Iteration=241, Time=2.882000e+01, dt=1.210000e-01, max(Re)=0.006066\n",
      "2023-09-21 23:58:24,749 __main__ 0/1 INFO :: Iteration=251, Time=3.003000e+01, dt=1.210000e-01, max(Re)=0.006002\n",
      "2023-09-21 23:58:25,517 __main__ 0/1 INFO :: Iteration=261, Time=3.124000e+01, dt=1.210000e-01, max(Re)=0.006243\n",
      "2023-09-21 23:58:26,307 __main__ 0/1 INFO :: Iteration=271, Time=3.245000e+01, dt=1.210000e-01, max(Re)=0.006743\n",
      "2023-09-21 23:58:27,079 __main__ 0/1 INFO :: Iteration=281, Time=3.366000e+01, dt=1.210000e-01, max(Re)=0.006990\n",
      "2023-09-21 23:58:27,829 __main__ 0/1 INFO :: Iteration=291, Time=3.487000e+01, dt=1.210000e-01, max(Re)=0.006836\n",
      "2023-09-21 23:58:28,629 __main__ 0/1 INFO :: Iteration=301, Time=3.608000e+01, dt=1.210000e-01, max(Re)=0.006270\n",
      "2023-09-21 23:58:29,378 __main__ 0/1 INFO :: Iteration=311, Time=3.729000e+01, dt=1.210000e-01, max(Re)=0.005363\n",
      "2023-09-21 23:58:30,158 __main__ 0/1 INFO :: Iteration=321, Time=3.850000e+01, dt=1.210000e-01, max(Re)=0.004312\n",
      "2023-09-21 23:58:30,857 __main__ 0/1 INFO :: Iteration=331, Time=3.971000e+01, dt=1.210000e-01, max(Re)=0.004630\n",
      "2023-09-21 23:58:31,568 __main__ 0/1 INFO :: Iteration=341, Time=4.092000e+01, dt=1.210000e-01, max(Re)=0.004894\n",
      "2023-09-21 23:58:32,275 __main__ 0/1 INFO :: Iteration=351, Time=4.213000e+01, dt=1.210000e-01, max(Re)=0.004918\n",
      "2023-09-21 23:58:32,987 __main__ 0/1 INFO :: Iteration=361, Time=4.334000e+01, dt=1.210000e-01, max(Re)=0.004710\n",
      "2023-09-21 23:58:33,704 __main__ 0/1 INFO :: Iteration=371, Time=4.455000e+01, dt=1.210000e-01, max(Re)=0.004308\n",
      "2023-09-21 23:58:34,411 __main__ 0/1 INFO :: Iteration=381, Time=4.576000e+01, dt=1.210000e-01, max(Re)=0.003771\n",
      "2023-09-21 23:58:35,124 __main__ 0/1 INFO :: Iteration=391, Time=4.697000e+01, dt=1.210000e-01, max(Re)=0.003191\n",
      "2023-09-21 23:58:35,857 __main__ 0/1 INFO :: Iteration=401, Time=4.818000e+01, dt=1.210000e-01, max(Re)=0.003088\n",
      "2023-09-21 23:58:36,580 __main__ 0/1 INFO :: Iteration=411, Time=4.939000e+01, dt=1.210000e-01, max(Re)=0.002920\n",
      "2023-09-21 23:58:37,040 solvers 0/1 INFO :: Simulation stop time reached.\n",
      "2023-09-21 23:58:37,041 solvers 0/1 INFO :: Final iteration: 417\n",
      "2023-09-21 23:58:37,041 solvers 0/1 INFO :: Final sim time: 50.1160000000002\n",
      "2023-09-21 23:58:37,042 solvers 0/1 INFO :: Setup time (init - iter 0): 18.47 sec\n",
      "2023-09-21 23:58:37,042 solvers 0/1 INFO :: Warmup time (iter 0-10): 2.22 sec\n",
      "2023-09-21 23:58:37,042 solvers 0/1 INFO :: Run time (iter 10-end): 30.61 sec\n",
      "2023-09-21 23:58:37,042 solvers 0/1 INFO :: CPU time (iter 10-end): 0.008502 cpu-hr\n",
      "2023-09-21 23:58:37,042 solvers 0/1 INFO :: Speed: 3.399e+06 mode-stages/cpu-sec\n"
     ]
    }
   ],
   "source": [
    "# Main loop\n",
    "startup_iter = 10\n",
    "try:\n",
    "    logger.info('Starting main loop')\n",
    "    while solver.proceed:\n",
    "        timestep = CFL.compute_timestep()\n",
    "        solver.step(timestep)\n",
    "        if (solver.iteration-1) % 10 == 0:\n",
    "            max_Re = flow.max('Re')\n",
    "            logger.info('Iteration=%i, Time=%e, dt=%e, max(Re)=%f' %(solver.iteration, solver.sim_time, timestep, max_Re))\n",
    "except:\n",
    "    logger.error('Exception raised, triggering end of main loop.')\n",
    "    raise\n",
    "finally:\n",
    "    solver.log_stats()"
   ]
  }
 ],
 "metadata": {
  "kernelspec": {
   "display_name": "dedalus3",
   "language": "python",
   "name": "python3"
  },
  "language_info": {
   "codemirror_mode": {
    "name": "ipython",
    "version": 3
   },
   "file_extension": ".py",
   "mimetype": "text/x-python",
   "name": "python",
   "nbconvert_exporter": "python",
   "pygments_lexer": "ipython3",
   "version": "3.11.3"
  }
 },
 "nbformat": 4,
 "nbformat_minor": 4
}
